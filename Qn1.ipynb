{
  "nbformat": 4,
  "nbformat_minor": 0,
  "metadata": {
    "colab": {
      "provenance": [],
      "collapsed_sections": []
    },
    "kernelspec": {
      "name": "python3",
      "display_name": "Python 3"
    },
    "language_info": {
      "name": "python"
    }
  },
  "cells": [
    {
      "cell_type": "code",
      "execution_count": null,
      "metadata": {
        "id": "8ktf2Gd0vWfO"
      },
      "outputs": [],
      "source": [
        "import pandas as pd\n",
        "import matplotlib.pyplot as plt\n",
        "import seaborn as sns\n",
        "df=pd.read_csv(\"/content/Global new2.csv\")\n",
        "#line plot\n",
        "plt.plot(df.Month,df.Profit)\n",
        "plt.grid(True,color='k',linestyle=':')\n",
        "plt.title(\"Company profit per month\")\n",
        "plt.xlabel(\"Month number\")\n",
        "plt.ylabel(\"Total profit\")\n",
        "\n",
        "#scatterplot\n",
        "plt.scatter(df.Month,df.Profit,color='g',s=100)\n",
        "plt.grid(True,color='k',linestyle=':')\n",
        "plt.title(\"Company profit per month\")\n",
        "plt.xlabel(\"Month number\")\n",
        "plt.ylabel(\"Total profit\")"
      ]
    }
  ]
}