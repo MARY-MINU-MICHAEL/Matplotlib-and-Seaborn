{
  "nbformat": 4,
  "nbformat_minor": 0,
  "metadata": {
    "colab": {
      "provenance": [],
      "collapsed_sections": []
    },
    "kernelspec": {
      "name": "python3",
      "display_name": "Python 3"
    },
    "language_info": {
      "name": "python"
    }
  },
  "cells": [
    {
      "cell_type": "code",
      "execution_count": 6,
      "metadata": {
        "colab": {
          "base_uri": "https://localhost:8080/",
          "height": 279
        },
        "id": "8ktf2Gd0vWfO",
        "outputId": "4825cffd-0952-46a2-8a72-834f3db71912"
      },
      "outputs": [
        {
          "output_type": "display_data",
          "data": {
            "text/plain": [
              "<Figure size 432x288 with 1 Axes>"
            ],
            "image/png": "[encoded data removed]"
          },
          "metadata": {
            "needs_background": "light"
          }
        }
      ],
      "source": [
        "#Create two different color palettes and save it inside a variable and use it for any data plotting?\n",
        "import pandas as pd\n",
        "import matplotlib.pyplot as plt\n",
        "import seaborn as sns\n",
        "x1 = [10,20,30]\n",
        "y1 = [20,40,10]\n",
        "\n",
        "x2 = [10,20,30]\n",
        "y2 = [40,10,30]\n",
        "plt.xlabel('X - Axis')\n",
        "plt.ylabel('Y - Axis')\n",
        " \n",
        "plt.scatter(x1,y1, color='b', linewidth = 3,  label = 'line1')\n",
        "plt.scatter(x2,y2, color='r', linewidth = 5,  label = 'line2')\n",
        " \n",
        "plt.legend()\n",
        "plt.show()"
      ]
    }
  ]
}